{
 "cells": [
  {
   "cell_type": "code",
   "execution_count": 1,
   "id": "af95edc1",
   "metadata": {},
   "outputs": [],
   "source": [
    "import pandas as pd\n",
    "import numpy as np"
   ]
  },
  {
   "cell_type": "code",
   "execution_count": 2,
   "id": "20995c82",
   "metadata": {},
   "outputs": [],
   "source": [
    "crop = pd.read_csv(\"Crop_recommendation.csv\")"
   ]
  },
  {
   "cell_type": "code",
   "execution_count": 3,
   "id": "c5746355",
   "metadata": {},
   "outputs": [
    {
     "data": {
      "text/html": [
       "<div>\n",
       "<style scoped>\n",
       "    .dataframe tbody tr th:only-of-type {\n",
       "        vertical-align: middle;\n",
       "    }\n",
       "\n",
       "    .dataframe tbody tr th {\n",
       "        vertical-align: top;\n",
       "    }\n",
       "\n",
       "    .dataframe thead th {\n",
       "        text-align: right;\n",
       "    }\n",
       "</style>\n",
       "<table border=\"1\" class=\"dataframe\">\n",
       "  <thead>\n",
       "    <tr style=\"text-align: right;\">\n",
       "      <th></th>\n",
       "      <th>N</th>\n",
       "      <th>P</th>\n",
       "      <th>K</th>\n",
       "      <th>temperature</th>\n",
       "      <th>humidity</th>\n",
       "      <th>ph</th>\n",
       "      <th>rainfall</th>\n",
       "      <th>Soil moisture</th>\n",
       "      <th>Soil temperature</th>\n",
       "      <th>Wind speed</th>\n",
       "      <th>Daily Light Integral</th>\n",
       "      <th>label</th>\n",
       "    </tr>\n",
       "  </thead>\n",
       "  <tbody>\n",
       "    <tr>\n",
       "      <th>0</th>\n",
       "      <td>90</td>\n",
       "      <td>42</td>\n",
       "      <td>43</td>\n",
       "      <td>20.879744</td>\n",
       "      <td>82.002744</td>\n",
       "      <td>6.502985</td>\n",
       "      <td>202.935536</td>\n",
       "      <td>88.038721</td>\n",
       "      <td>31.828543</td>\n",
       "      <td>1.892905</td>\n",
       "      <td>16.347662</td>\n",
       "      <td>rice</td>\n",
       "    </tr>\n",
       "    <tr>\n",
       "      <th>1</th>\n",
       "      <td>85</td>\n",
       "      <td>58</td>\n",
       "      <td>41</td>\n",
       "      <td>21.770462</td>\n",
       "      <td>80.319644</td>\n",
       "      <td>7.038096</td>\n",
       "      <td>226.655537</td>\n",
       "      <td>79.503274</td>\n",
       "      <td>34.418453</td>\n",
       "      <td>2.797165</td>\n",
       "      <td>23.580669</td>\n",
       "      <td>rice</td>\n",
       "    </tr>\n",
       "    <tr>\n",
       "      <th>2</th>\n",
       "      <td>60</td>\n",
       "      <td>55</td>\n",
       "      <td>44</td>\n",
       "      <td>23.004459</td>\n",
       "      <td>82.320763</td>\n",
       "      <td>7.840207</td>\n",
       "      <td>263.964248</td>\n",
       "      <td>86.143296</td>\n",
       "      <td>32.859340</td>\n",
       "      <td>1.970928</td>\n",
       "      <td>19.398759</td>\n",
       "      <td>rice</td>\n",
       "    </tr>\n",
       "    <tr>\n",
       "      <th>3</th>\n",
       "      <td>74</td>\n",
       "      <td>35</td>\n",
       "      <td>40</td>\n",
       "      <td>26.491096</td>\n",
       "      <td>80.158363</td>\n",
       "      <td>6.980401</td>\n",
       "      <td>242.864034</td>\n",
       "      <td>63.644394</td>\n",
       "      <td>30.984550</td>\n",
       "      <td>1.919235</td>\n",
       "      <td>20.751343</td>\n",
       "      <td>rice</td>\n",
       "    </tr>\n",
       "    <tr>\n",
       "      <th>4</th>\n",
       "      <td>78</td>\n",
       "      <td>42</td>\n",
       "      <td>42</td>\n",
       "      <td>20.130175</td>\n",
       "      <td>81.604873</td>\n",
       "      <td>7.628473</td>\n",
       "      <td>262.717340</td>\n",
       "      <td>87.372776</td>\n",
       "      <td>34.000027</td>\n",
       "      <td>1.320308</td>\n",
       "      <td>15.884268</td>\n",
       "      <td>rice</td>\n",
       "    </tr>\n",
       "  </tbody>\n",
       "</table>\n",
       "</div>"
      ],
      "text/plain": [
       "    N   P   K  temperature   humidity        ph    rainfall  Soil moisture  \\\n",
       "0  90  42  43    20.879744  82.002744  6.502985  202.935536      88.038721   \n",
       "1  85  58  41    21.770462  80.319644  7.038096  226.655537      79.503274   \n",
       "2  60  55  44    23.004459  82.320763  7.840207  263.964248      86.143296   \n",
       "3  74  35  40    26.491096  80.158363  6.980401  242.864034      63.644394   \n",
       "4  78  42  42    20.130175  81.604873  7.628473  262.717340      87.372776   \n",
       "\n",
       "   Soil temperature  Wind speed  Daily Light Integral label  \n",
       "0         31.828543    1.892905             16.347662  rice  \n",
       "1         34.418453    2.797165             23.580669  rice  \n",
       "2         32.859340    1.970928             19.398759  rice  \n",
       "3         30.984550    1.919235             20.751343  rice  \n",
       "4         34.000027    1.320308             15.884268  rice  "
      ]
     },
     "execution_count": 3,
     "metadata": {},
     "output_type": "execute_result"
    }
   ],
   "source": [
    "crop.head()"
   ]
  },
  {
   "cell_type": "code",
   "execution_count": 4,
   "id": "a8c8ff58",
   "metadata": {},
   "outputs": [
    {
     "data": {
      "text/plain": [
       "(2200, 12)"
      ]
     },
     "execution_count": 4,
     "metadata": {},
     "output_type": "execute_result"
    }
   ],
   "source": [
    "crop.shape"
   ]
  },
  {
   "cell_type": "code",
   "execution_count": 5,
   "id": "e1cf0a23",
   "metadata": {},
   "outputs": [],
   "source": [
    "crop.rename(columns={\n",
    "  'Soil moisture':'soilMoisture',\n",
    "  'Soil temperature':'soilTemprature',\n",
    "  'Wind speed':'windSpeed',\n",
    "  'Daily Light Integral':'dailyLightIntegral'\n",
    "}, inplace=True)\n"
   ]
  },
  {
   "cell_type": "code",
   "execution_count": 6,
   "id": "1ec655d5",
   "metadata": {},
   "outputs": [
    {
     "name": "stdout",
     "output_type": "stream",
     "text": [
      "<class 'pandas.core.frame.DataFrame'>\n",
      "RangeIndex: 2200 entries, 0 to 2199\n",
      "Data columns (total 12 columns):\n",
      " #   Column              Non-Null Count  Dtype  \n",
      "---  ------              --------------  -----  \n",
      " 0   N                   2200 non-null   int64  \n",
      " 1   P                   2200 non-null   int64  \n",
      " 2   K                   2200 non-null   int64  \n",
      " 3   temperature         2200 non-null   float64\n",
      " 4   humidity            2200 non-null   float64\n",
      " 5   ph                  2200 non-null   float64\n",
      " 6   rainfall            2200 non-null   float64\n",
      " 7   soilMoisture        2200 non-null   float64\n",
      " 8   soilTemprature      2200 non-null   float64\n",
      " 9   windSpeed           2200 non-null   float64\n",
      " 10  dailyLightIntegral  2200 non-null   float64\n",
      " 11  label               2200 non-null   object \n",
      "dtypes: float64(8), int64(3), object(1)\n",
      "memory usage: 206.4+ KB\n"
     ]
    }
   ],
   "source": [
    "crop.info()"
   ]
  },
  {
   "cell_type": "code",
   "execution_count": 7,
   "id": "ecc29fc8",
   "metadata": {},
   "outputs": [
    {
     "data": {
      "text/plain": [
       "N                     0\n",
       "P                     0\n",
       "K                     0\n",
       "temperature           0\n",
       "humidity              0\n",
       "ph                    0\n",
       "rainfall              0\n",
       "soilMoisture          0\n",
       "soilTemprature        0\n",
       "windSpeed             0\n",
       "dailyLightIntegral    0\n",
       "label                 0\n",
       "dtype: int64"
      ]
     },
     "execution_count": 7,
     "metadata": {},
     "output_type": "execute_result"
    }
   ],
   "source": [
    "crop.isnull().sum()"
   ]
  },
  {
   "cell_type": "code",
   "execution_count": 8,
   "id": "d6c1945e",
   "metadata": {},
   "outputs": [
    {
     "data": {
      "text/plain": [
       "np.int64(0)"
      ]
     },
     "execution_count": 8,
     "metadata": {},
     "output_type": "execute_result"
    }
   ],
   "source": [
    "crop.duplicated().sum()"
   ]
  },
  {
   "cell_type": "code",
   "execution_count": 9,
   "id": "ca14f3fa",
   "metadata": {},
   "outputs": [
    {
     "data": {
      "text/html": [
       "<div>\n",
       "<style scoped>\n",
       "    .dataframe tbody tr th:only-of-type {\n",
       "        vertical-align: middle;\n",
       "    }\n",
       "\n",
       "    .dataframe tbody tr th {\n",
       "        vertical-align: top;\n",
       "    }\n",
       "\n",
       "    .dataframe thead th {\n",
       "        text-align: right;\n",
       "    }\n",
       "</style>\n",
       "<table border=\"1\" class=\"dataframe\">\n",
       "  <thead>\n",
       "    <tr style=\"text-align: right;\">\n",
       "      <th></th>\n",
       "      <th>N</th>\n",
       "      <th>P</th>\n",
       "      <th>K</th>\n",
       "      <th>temperature</th>\n",
       "      <th>humidity</th>\n",
       "      <th>ph</th>\n",
       "      <th>rainfall</th>\n",
       "      <th>soilMoisture</th>\n",
       "      <th>soilTemprature</th>\n",
       "      <th>windSpeed</th>\n",
       "      <th>dailyLightIntegral</th>\n",
       "    </tr>\n",
       "  </thead>\n",
       "  <tbody>\n",
       "    <tr>\n",
       "      <th>count</th>\n",
       "      <td>2200.000000</td>\n",
       "      <td>2200.000000</td>\n",
       "      <td>2200.000000</td>\n",
       "      <td>2200.000000</td>\n",
       "      <td>2200.000000</td>\n",
       "      <td>2200.000000</td>\n",
       "      <td>2200.000000</td>\n",
       "      <td>2200.000000</td>\n",
       "      <td>2200.000000</td>\n",
       "      <td>2200.000000</td>\n",
       "      <td>2200.000000</td>\n",
       "    </tr>\n",
       "    <tr>\n",
       "      <th>mean</th>\n",
       "      <td>50.551818</td>\n",
       "      <td>53.362727</td>\n",
       "      <td>48.149091</td>\n",
       "      <td>25.616244</td>\n",
       "      <td>71.481779</td>\n",
       "      <td>6.469480</td>\n",
       "      <td>103.463655</td>\n",
       "      <td>53.440699</td>\n",
       "      <td>26.177276</td>\n",
       "      <td>2.917072</td>\n",
       "      <td>26.104329</td>\n",
       "    </tr>\n",
       "    <tr>\n",
       "      <th>std</th>\n",
       "      <td>36.917334</td>\n",
       "      <td>32.985883</td>\n",
       "      <td>50.647931</td>\n",
       "      <td>5.063749</td>\n",
       "      <td>22.263812</td>\n",
       "      <td>0.773938</td>\n",
       "      <td>54.958389</td>\n",
       "      <td>13.863447</td>\n",
       "      <td>4.016621</td>\n",
       "      <td>1.063329</td>\n",
       "      <td>5.143982</td>\n",
       "    </tr>\n",
       "    <tr>\n",
       "      <th>min</th>\n",
       "      <td>0.000000</td>\n",
       "      <td>5.000000</td>\n",
       "      <td>5.000000</td>\n",
       "      <td>8.825675</td>\n",
       "      <td>14.258040</td>\n",
       "      <td>3.504752</td>\n",
       "      <td>20.211267</td>\n",
       "      <td>25.060275</td>\n",
       "      <td>15.000074</td>\n",
       "      <td>1.002332</td>\n",
       "      <td>15.080740</td>\n",
       "    </tr>\n",
       "    <tr>\n",
       "      <th>25%</th>\n",
       "      <td>21.000000</td>\n",
       "      <td>28.000000</td>\n",
       "      <td>20.000000</td>\n",
       "      <td>22.769375</td>\n",
       "      <td>60.261953</td>\n",
       "      <td>5.971693</td>\n",
       "      <td>64.551686</td>\n",
       "      <td>43.183786</td>\n",
       "      <td>23.364613</td>\n",
       "      <td>2.167491</td>\n",
       "      <td>22.061248</td>\n",
       "    </tr>\n",
       "    <tr>\n",
       "      <th>50%</th>\n",
       "      <td>37.000000</td>\n",
       "      <td>51.000000</td>\n",
       "      <td>32.000000</td>\n",
       "      <td>25.598693</td>\n",
       "      <td>80.473146</td>\n",
       "      <td>6.425045</td>\n",
       "      <td>94.867624</td>\n",
       "      <td>50.981668</td>\n",
       "      <td>26.388475</td>\n",
       "      <td>2.779640</td>\n",
       "      <td>25.777879</td>\n",
       "    </tr>\n",
       "    <tr>\n",
       "      <th>75%</th>\n",
       "      <td>84.250000</td>\n",
       "      <td>68.000000</td>\n",
       "      <td>49.000000</td>\n",
       "      <td>28.561654</td>\n",
       "      <td>89.948771</td>\n",
       "      <td>6.923643</td>\n",
       "      <td>124.267508</td>\n",
       "      <td>62.379657</td>\n",
       "      <td>29.134557</td>\n",
       "      <td>3.627558</td>\n",
       "      <td>29.948467</td>\n",
       "    </tr>\n",
       "    <tr>\n",
       "      <th>max</th>\n",
       "      <td>140.000000</td>\n",
       "      <td>145.000000</td>\n",
       "      <td>205.000000</td>\n",
       "      <td>43.675493</td>\n",
       "      <td>99.981876</td>\n",
       "      <td>9.935091</td>\n",
       "      <td>298.560117</td>\n",
       "      <td>89.731014</td>\n",
       "      <td>34.973251</td>\n",
       "      <td>5.973076</td>\n",
       "      <td>39.739026</td>\n",
       "    </tr>\n",
       "  </tbody>\n",
       "</table>\n",
       "</div>"
      ],
      "text/plain": [
       "                 N            P            K  temperature     humidity  \\\n",
       "count  2200.000000  2200.000000  2200.000000  2200.000000  2200.000000   \n",
       "mean     50.551818    53.362727    48.149091    25.616244    71.481779   \n",
       "std      36.917334    32.985883    50.647931     5.063749    22.263812   \n",
       "min       0.000000     5.000000     5.000000     8.825675    14.258040   \n",
       "25%      21.000000    28.000000    20.000000    22.769375    60.261953   \n",
       "50%      37.000000    51.000000    32.000000    25.598693    80.473146   \n",
       "75%      84.250000    68.000000    49.000000    28.561654    89.948771   \n",
       "max     140.000000   145.000000   205.000000    43.675493    99.981876   \n",
       "\n",
       "                ph     rainfall  soilMoisture  soilTemprature    windSpeed  \\\n",
       "count  2200.000000  2200.000000   2200.000000     2200.000000  2200.000000   \n",
       "mean      6.469480   103.463655     53.440699       26.177276     2.917072   \n",
       "std       0.773938    54.958389     13.863447        4.016621     1.063329   \n",
       "min       3.504752    20.211267     25.060275       15.000074     1.002332   \n",
       "25%       5.971693    64.551686     43.183786       23.364613     2.167491   \n",
       "50%       6.425045    94.867624     50.981668       26.388475     2.779640   \n",
       "75%       6.923643   124.267508     62.379657       29.134557     3.627558   \n",
       "max       9.935091   298.560117     89.731014       34.973251     5.973076   \n",
       "\n",
       "       dailyLightIntegral  \n",
       "count         2200.000000  \n",
       "mean            26.104329  \n",
       "std              5.143982  \n",
       "min             15.080740  \n",
       "25%             22.061248  \n",
       "50%             25.777879  \n",
       "75%             29.948467  \n",
       "max             39.739026  "
      ]
     },
     "execution_count": 9,
     "metadata": {},
     "output_type": "execute_result"
    }
   ],
   "source": [
    "crop.describe()"
   ]
  },
  {
   "cell_type": "code",
   "execution_count": 10,
   "id": "8ae600dc",
   "metadata": {},
   "outputs": [],
   "source": [
    "cropCorr = crop.corr(numeric_only=True)"
   ]
  },
  {
   "cell_type": "code",
   "execution_count": 11,
   "id": "d0866c2d",
   "metadata": {},
   "outputs": [
    {
     "data": {
      "text/plain": [
       "<Axes: >"
      ]
     },
     "execution_count": 11,
     "metadata": {},
     "output_type": "execute_result"
    },
    {
     "data": {
      "image/png": "[encoded data removed]",
      "text/plain": [
       "<Figure size 640x480 with 2 Axes>"
      ]
     },
     "metadata": {},
     "output_type": "display_data"
    }
   ],
   "source": [
    "import seaborn as sns\n",
    "sns.heatmap(cropCorr, annot=True, cbar=True)"
   ]
  },
  {
   "cell_type": "code",
   "execution_count": 12,
   "id": "6242fc1d",
   "metadata": {},
   "outputs": [
    {
     "data": {
      "text/plain": [
       "label\n",
       "rice           100\n",
       "maize          100\n",
       "chickpea       100\n",
       "kidneybeans    100\n",
       "pigeonpeas     100\n",
       "mothbeans      100\n",
       "mungbean       100\n",
       "blackgram      100\n",
       "lentil         100\n",
       "pomegranate    100\n",
       "banana         100\n",
       "mango          100\n",
       "grapes         100\n",
       "watermelon     100\n",
       "muskmelon      100\n",
       "apple          100\n",
       "orange         100\n",
       "papaya         100\n",
       "coconut        100\n",
       "cotton         100\n",
       "jute           100\n",
       "coffee         100\n",
       "Name: count, dtype: int64"
      ]
     },
     "execution_count": 12,
     "metadata": {},
     "output_type": "execute_result"
    }
   ],
   "source": [
    "crop.label.value_counts()"
   ]
  },
  {
   "cell_type": "code",
   "execution_count": 13,
   "id": "5f761ed0",
   "metadata": {},
   "outputs": [
    {
     "data": {
      "text/plain": [
       "array(['rice', 'maize', 'chickpea', 'kidneybeans', 'pigeonpeas',\n",
       "       'mothbeans', 'mungbean', 'blackgram', 'lentil', 'pomegranate',\n",
       "       'banana', 'mango', 'grapes', 'watermelon', 'muskmelon', 'apple',\n",
       "       'orange', 'papaya', 'coconut', 'cotton', 'jute', 'coffee'],\n",
       "      dtype=object)"
      ]
     },
     "execution_count": 13,
     "metadata": {},
     "output_type": "execute_result"
    }
   ],
   "source": [
    "crop['label'].unique()"
   ]
  },
  {
   "cell_type": "code",
   "execution_count": 14,
   "id": "726aa7b4",
   "metadata": {},
   "outputs": [
    {
     "data": {
      "image/png": "[encoded data removed]",
      "text/plain": [
       "<Figure size 500x500 with 1 Axes>"
      ]
     },
     "metadata": {},
     "output_type": "display_data"
    }
   ],
   "source": [
    "import matplotlib.pyplot as plt\n",
    "sns.displot(crop['P'])\n",
    "plt.show()"
   ]
  },
  {
   "cell_type": "code",
   "execution_count": 15,
   "id": "816854e0",
   "metadata": {},
   "outputs": [
    {
     "data": {
      "image/png": "[encoded data removed]",
      "text/plain": [
       "<Figure size 500x500 with 1 Axes>"
      ]
     },
     "metadata": {},
     "output_type": "display_data"
    }
   ],
   "source": [
    "import matplotlib.pyplot as plt\n",
    "sns.displot(crop['dailyLightIntegral'])\n",
    "plt.show()"
   ]
  },
  {
   "cell_type": "code",
   "execution_count": 16,
   "id": "871b917f",
   "metadata": {},
   "outputs": [],
   "source": [
    "crop_labels = crop.label.unique()"
   ]
  },
  {
   "cell_type": "code",
   "execution_count": 17,
   "id": "f699a993",
   "metadata": {},
   "outputs": [
    {
     "name": "stdout",
     "output_type": "stream",
     "text": [
      "{'rice': 1, 'maize': 2, 'chickpea': 3, 'kidneybeans': 4, 'pigeonpeas': 5, 'mothbeans': 6, 'mungbean': 7, 'blackgram': 8, 'lentil': 9, 'pomegranate': 10, 'banana': 11, 'mango': 12, 'grapes': 13, 'watermelon': 14, 'muskmelon': 15, 'apple': 16, 'orange': 17, 'papaya': 18, 'coconut': 19, 'cotton': 20, 'jute': 21, 'coffee': 22}\n"
     ]
    }
   ],
   "source": [
    "crop_dict = {crop: i+1 for i, crop in enumerate(crop_labels)}\n",
    "\n",
    "print(crop_dict)"
   ]
  },
  {
   "cell_type": "code",
   "execution_count": 18,
   "id": "840e9ea3",
   "metadata": {},
   "outputs": [],
   "source": [
    "crop['label'] = crop['label'].map(crop_dict)"
   ]
  },
  {
   "cell_type": "code",
   "execution_count": 19,
   "id": "34514882",
   "metadata": {},
   "outputs": [
    {
     "data": {
      "text/html": [
       "<div>\n",
       "<style scoped>\n",
       "    .dataframe tbody tr th:only-of-type {\n",
       "        vertical-align: middle;\n",
       "    }\n",
       "\n",
       "    .dataframe tbody tr th {\n",
       "        vertical-align: top;\n",
       "    }\n",
       "\n",
       "    .dataframe thead th {\n",
       "        text-align: right;\n",
       "    }\n",
       "</style>\n",
       "<table border=\"1\" class=\"dataframe\">\n",
       "  <thead>\n",
       "    <tr style=\"text-align: right;\">\n",
       "      <th></th>\n",
       "      <th>N</th>\n",
       "      <th>P</th>\n",
       "      <th>K</th>\n",
       "      <th>temperature</th>\n",
       "      <th>humidity</th>\n",
       "      <th>ph</th>\n",
       "      <th>rainfall</th>\n",
       "      <th>soilMoisture</th>\n",
       "      <th>soilTemprature</th>\n",
       "      <th>windSpeed</th>\n",
       "      <th>dailyLightIntegral</th>\n",
       "      <th>label</th>\n",
       "    </tr>\n",
       "  </thead>\n",
       "  <tbody>\n",
       "    <tr>\n",
       "      <th>2195</th>\n",
       "      <td>107</td>\n",
       "      <td>34</td>\n",
       "      <td>32</td>\n",
       "      <td>26.774637</td>\n",
       "      <td>66.413269</td>\n",
       "      <td>6.780064</td>\n",
       "      <td>177.774507</td>\n",
       "      <td>63.739890</td>\n",
       "      <td>18.470802</td>\n",
       "      <td>1.349807</td>\n",
       "      <td>17.223366</td>\n",
       "      <td>22</td>\n",
       "    </tr>\n",
       "    <tr>\n",
       "      <th>2196</th>\n",
       "      <td>99</td>\n",
       "      <td>15</td>\n",
       "      <td>27</td>\n",
       "      <td>27.417112</td>\n",
       "      <td>56.636362</td>\n",
       "      <td>6.086922</td>\n",
       "      <td>127.924610</td>\n",
       "      <td>60.987204</td>\n",
       "      <td>19.476733</td>\n",
       "      <td>1.085350</td>\n",
       "      <td>16.838216</td>\n",
       "      <td>22</td>\n",
       "    </tr>\n",
       "    <tr>\n",
       "      <th>2197</th>\n",
       "      <td>118</td>\n",
       "      <td>33</td>\n",
       "      <td>30</td>\n",
       "      <td>24.131797</td>\n",
       "      <td>67.225123</td>\n",
       "      <td>6.362608</td>\n",
       "      <td>173.322839</td>\n",
       "      <td>68.964640</td>\n",
       "      <td>19.938169</td>\n",
       "      <td>2.220914</td>\n",
       "      <td>17.179903</td>\n",
       "      <td>22</td>\n",
       "    </tr>\n",
       "    <tr>\n",
       "      <th>2198</th>\n",
       "      <td>117</td>\n",
       "      <td>32</td>\n",
       "      <td>34</td>\n",
       "      <td>26.272418</td>\n",
       "      <td>52.127394</td>\n",
       "      <td>6.758793</td>\n",
       "      <td>127.175293</td>\n",
       "      <td>69.808265</td>\n",
       "      <td>23.416257</td>\n",
       "      <td>2.170436</td>\n",
       "      <td>17.096780</td>\n",
       "      <td>22</td>\n",
       "    </tr>\n",
       "    <tr>\n",
       "      <th>2199</th>\n",
       "      <td>104</td>\n",
       "      <td>18</td>\n",
       "      <td>30</td>\n",
       "      <td>23.603016</td>\n",
       "      <td>60.396475</td>\n",
       "      <td>6.779833</td>\n",
       "      <td>140.937041</td>\n",
       "      <td>67.186282</td>\n",
       "      <td>18.686325</td>\n",
       "      <td>2.839320</td>\n",
       "      <td>24.690094</td>\n",
       "      <td>22</td>\n",
       "    </tr>\n",
       "  </tbody>\n",
       "</table>\n",
       "</div>"
      ],
      "text/plain": [
       "        N   P   K  temperature   humidity        ph    rainfall  soilMoisture  \\\n",
       "2195  107  34  32    26.774637  66.413269  6.780064  177.774507     63.739890   \n",
       "2196   99  15  27    27.417112  56.636362  6.086922  127.924610     60.987204   \n",
       "2197  118  33  30    24.131797  67.225123  6.362608  173.322839     68.964640   \n",
       "2198  117  32  34    26.272418  52.127394  6.758793  127.175293     69.808265   \n",
       "2199  104  18  30    23.603016  60.396475  6.779833  140.937041     67.186282   \n",
       "\n",
       "      soilTemprature  windSpeed  dailyLightIntegral  label  \n",
       "2195       18.470802   1.349807           17.223366     22  \n",
       "2196       19.476733   1.085350           16.838216     22  \n",
       "2197       19.938169   2.220914           17.179903     22  \n",
       "2198       23.416257   2.170436           17.096780     22  \n",
       "2199       18.686325   2.839320           24.690094     22  "
      ]
     },
     "execution_count": 19,
     "metadata": {},
     "output_type": "execute_result"
    }
   ],
   "source": [
    "crop.tail()"
   ]
  },
  {
   "cell_type": "code",
   "execution_count": 20,
   "id": "19aed39c",
   "metadata": {},
   "outputs": [
    {
     "data": {
      "text/plain": [
       "array([ 1,  2,  3,  4,  5,  6,  7,  8,  9, 10, 11, 12, 13, 14, 15, 16, 17,\n",
       "       18, 19, 20, 21, 22])"
      ]
     },
     "execution_count": 20,
     "metadata": {},
     "output_type": "execute_result"
    }
   ],
   "source": [
    "crop.label.unique()"
   ]
  },
  {
   "cell_type": "code",
   "execution_count": 21,
   "id": "b4aaa3b9",
   "metadata": {},
   "outputs": [
    {
     "data": {
      "text/plain": [
       "label\n",
       "1     100\n",
       "2     100\n",
       "3     100\n",
       "4     100\n",
       "5     100\n",
       "6     100\n",
       "7     100\n",
       "8     100\n",
       "9     100\n",
       "10    100\n",
       "11    100\n",
       "12    100\n",
       "13    100\n",
       "14    100\n",
       "15    100\n",
       "16    100\n",
       "17    100\n",
       "18    100\n",
       "19    100\n",
       "20    100\n",
       "21    100\n",
       "22    100\n",
       "Name: count, dtype: int64"
      ]
     },
     "execution_count": 21,
     "metadata": {},
     "output_type": "execute_result"
    }
   ],
   "source": [
    "crop.label.value_counts()"
   ]
  },
  {
   "cell_type": "code",
   "execution_count": 22,
   "id": "69d6d810",
   "metadata": {},
   "outputs": [],
   "source": [
    "x = crop.drop('label', axis=1)\n",
    "y = crop['label']"
   ]
  },
  {
   "cell_type": "code",
   "execution_count": 23,
   "id": "cdbefb59",
   "metadata": {},
   "outputs": [
    {
     "data": {
      "text/html": [
       "<div>\n",
       "<style scoped>\n",
       "    .dataframe tbody tr th:only-of-type {\n",
       "        vertical-align: middle;\n",
       "    }\n",
       "\n",
       "    .dataframe tbody tr th {\n",
       "        vertical-align: top;\n",
       "    }\n",
       "\n",
       "    .dataframe thead th {\n",
       "        text-align: right;\n",
       "    }\n",
       "</style>\n",
       "<table border=\"1\" class=\"dataframe\">\n",
       "  <thead>\n",
       "    <tr style=\"text-align: right;\">\n",
       "      <th></th>\n",
       "      <th>N</th>\n",
       "      <th>P</th>\n",
       "      <th>K</th>\n",
       "      <th>temperature</th>\n",
       "      <th>humidity</th>\n",
       "      <th>ph</th>\n",
       "      <th>rainfall</th>\n",
       "      <th>soilMoisture</th>\n",
       "      <th>soilTemprature</th>\n",
       "      <th>windSpeed</th>\n",
       "      <th>dailyLightIntegral</th>\n",
       "    </tr>\n",
       "  </thead>\n",
       "  <tbody>\n",
       "    <tr>\n",
       "      <th>0</th>\n",
       "      <td>90</td>\n",
       "      <td>42</td>\n",
       "      <td>43</td>\n",
       "      <td>20.879744</td>\n",
       "      <td>82.002744</td>\n",
       "      <td>6.502985</td>\n",
       "      <td>202.935536</td>\n",
       "      <td>88.038721</td>\n",
       "      <td>31.828543</td>\n",
       "      <td>1.892905</td>\n",
       "      <td>16.347662</td>\n",
       "    </tr>\n",
       "    <tr>\n",
       "      <th>1</th>\n",
       "      <td>85</td>\n",
       "      <td>58</td>\n",
       "      <td>41</td>\n",
       "      <td>21.770462</td>\n",
       "      <td>80.319644</td>\n",
       "      <td>7.038096</td>\n",
       "      <td>226.655537</td>\n",
       "      <td>79.503274</td>\n",
       "      <td>34.418453</td>\n",
       "      <td>2.797165</td>\n",
       "      <td>23.580669</td>\n",
       "    </tr>\n",
       "    <tr>\n",
       "      <th>2</th>\n",
       "      <td>60</td>\n",
       "      <td>55</td>\n",
       "      <td>44</td>\n",
       "      <td>23.004459</td>\n",
       "      <td>82.320763</td>\n",
       "      <td>7.840207</td>\n",
       "      <td>263.964248</td>\n",
       "      <td>86.143296</td>\n",
       "      <td>32.859340</td>\n",
       "      <td>1.970928</td>\n",
       "      <td>19.398759</td>\n",
       "    </tr>\n",
       "    <tr>\n",
       "      <th>3</th>\n",
       "      <td>74</td>\n",
       "      <td>35</td>\n",
       "      <td>40</td>\n",
       "      <td>26.491096</td>\n",
       "      <td>80.158363</td>\n",
       "      <td>6.980401</td>\n",
       "      <td>242.864034</td>\n",
       "      <td>63.644394</td>\n",
       "      <td>30.984550</td>\n",
       "      <td>1.919235</td>\n",
       "      <td>20.751343</td>\n",
       "    </tr>\n",
       "    <tr>\n",
       "      <th>4</th>\n",
       "      <td>78</td>\n",
       "      <td>42</td>\n",
       "      <td>42</td>\n",
       "      <td>20.130175</td>\n",
       "      <td>81.604873</td>\n",
       "      <td>7.628473</td>\n",
       "      <td>262.717340</td>\n",
       "      <td>87.372776</td>\n",
       "      <td>34.000027</td>\n",
       "      <td>1.320308</td>\n",
       "      <td>15.884268</td>\n",
       "    </tr>\n",
       "  </tbody>\n",
       "</table>\n",
       "</div>"
      ],
      "text/plain": [
       "    N   P   K  temperature   humidity        ph    rainfall  soilMoisture  \\\n",
       "0  90  42  43    20.879744  82.002744  6.502985  202.935536     88.038721   \n",
       "1  85  58  41    21.770462  80.319644  7.038096  226.655537     79.503274   \n",
       "2  60  55  44    23.004459  82.320763  7.840207  263.964248     86.143296   \n",
       "3  74  35  40    26.491096  80.158363  6.980401  242.864034     63.644394   \n",
       "4  78  42  42    20.130175  81.604873  7.628473  262.717340     87.372776   \n",
       "\n",
       "   soilTemprature  windSpeed  dailyLightIntegral  \n",
       "0       31.828543   1.892905           16.347662  \n",
       "1       34.418453   2.797165           23.580669  \n",
       "2       32.859340   1.970928           19.398759  \n",
       "3       30.984550   1.919235           20.751343  \n",
       "4       34.000027   1.320308           15.884268  "
      ]
     },
     "execution_count": 23,
     "metadata": {},
     "output_type": "execute_result"
    }
   ],
   "source": [
    "x.head()"
   ]
  },
  {
   "cell_type": "code",
   "execution_count": 24,
   "id": "3da8b846",
   "metadata": {},
   "outputs": [
    {
     "data": {
      "text/plain": [
       "0    1\n",
       "1    1\n",
       "2    1\n",
       "3    1\n",
       "4    1\n",
       "Name: label, dtype: int64"
      ]
     },
     "execution_count": 24,
     "metadata": {},
     "output_type": "execute_result"
    }
   ],
   "source": [
    "y.head()"
   ]
  },
  {
   "cell_type": "code",
   "execution_count": 25,
   "id": "41c00d59",
   "metadata": {},
   "outputs": [],
   "source": [
    "from sklearn.model_selection import train_test_split\n",
    "\n",
    "X_train, X_test, y_train, y_test = train_test_split(x, y, test_size=0.2, random_state=42)"
   ]
  },
  {
   "cell_type": "code",
   "execution_count": 26,
   "id": "1fd12b87",
   "metadata": {},
   "outputs": [
    {
     "data": {
      "text/plain": [
       "(1760, 11)"
      ]
     },
     "execution_count": 26,
     "metadata": {},
     "output_type": "execute_result"
    }
   ],
   "source": [
    "X_train.shape"
   ]
  },
  {
   "cell_type": "code",
   "execution_count": 27,
   "id": "a653f668",
   "metadata": {},
   "outputs": [],
   "source": [
    "from sklearn.preprocessing import StandardScaler\n",
    "\n",
    "scaler = StandardScaler()\n",
    "scaler.fit(X_train)\n",
    "\n",
    "X_train_scaled = scaler.transform(X_train)\n",
    "X_test_scaled = scaler.transform(X_test)"
   ]
  },
  {
   "cell_type": "code",
   "execution_count": 28,
   "id": "eb092bf1",
   "metadata": {},
   "outputs": [],
   "source": [
    "from sklearn.linear_model import LogisticRegression\n",
    "from sklearn.naive_bayes import GaussianNB\n",
    "from sklearn.svm import SVC\n",
    "from sklearn.neighbors import KNeighborsClassifier\n",
    "from sklearn.tree import DecisionTreeClassifier, ExtraTreeClassifier\n",
    "from sklearn.ensemble import RandomForestClassifier, BaggingClassifier, GradientBoostingClassifier, AdaBoostClassifier\n",
    "from sklearn.metrics import accuracy_score"
   ]
  },
  {
   "cell_type": "code",
   "execution_count": 29,
   "id": "92dd89dc",
   "metadata": {},
   "outputs": [],
   "source": [
    "models = {\n",
    "  'LogisticRegression' : LogisticRegression(),\n",
    "  'GaussianNB' : GaussianNB(),\n",
    "  'SVC' : SVC(),\n",
    "  'KNeighborsClassifier' : KNeighborsClassifier(),\n",
    "  'DecisionTreeClassifier' : DecisionTreeClassifier(),\n",
    "  'ExtraTreeClassifier' : ExtraTreeClassifier(),\n",
    "  'RandomForestClassifier' : RandomForestClassifier(),\n",
    "  'BaggingClassifier' : BaggingClassifier(),\n",
    "  'GradientBoostingClassifier' : GradientBoostingClassifier(),\n",
    "  'AdaBoostClassifier' : AdaBoostClassifier(),\n",
    "}"
   ]
  },
  {
   "cell_type": "code",
   "execution_count": 30,
   "id": "9c6ffda6",
   "metadata": {},
   "outputs": [
    {
     "name": "stderr",
     "output_type": "stream",
     "text": [
      "C:\\Users\\ayush\\AppData\\Roaming\\Python\\Python311\\site-packages\\sklearn\\linear_model\\_logistic.py:473: ConvergenceWarning: lbfgs failed to converge after 100 iteration(s) (status=1):\n",
      "STOP: TOTAL NO. OF ITERATIONS REACHED LIMIT\n",
      "\n",
      "Increase the number of iterations to improve the convergence (max_iter=100).\n",
      "You might also want to scale the data as shown in:\n",
      "    https://scikit-learn.org/stable/modules/preprocessing.html\n",
      "Please also refer to the documentation for alternative solver options:\n",
      "    https://scikit-learn.org/stable/modules/linear_model.html#logistic-regression\n",
      "  n_iter_i = _check_optimize_result(\n"
     ]
    },
    {
     "name": "stdout",
     "output_type": "stream",
     "text": [
      "LogisticRegression model with accuracy: 0.975\n",
      "GaussianNB model with accuracy: 0.9977272727272727\n",
      "SVC model with accuracy: 0.9772727272727273\n",
      "KNeighborsClassifier model with accuracy: 0.9795454545454545\n",
      "DecisionTreeClassifier model with accuracy: 0.9795454545454545\n",
      "ExtraTreeClassifier model with accuracy: 0.8613636363636363\n",
      "RandomForestClassifier model with accuracy: 1.0\n",
      "BaggingClassifier model with accuracy: 0.9931818181818182\n",
      "GradientBoostingClassifier model with accuracy: 0.990909090909091\n",
      "AdaBoostClassifier model with accuracy: 0.14545454545454545\n"
     ]
    }
   ],
   "source": [
    "for name, model in models.items():\n",
    "  model.fit(X_train, y_train)\n",
    "  y_pred = model.predict(X_test)\n",
    "  score = accuracy_score(y_test, y_pred)\n",
    "  print(f\"{name} model with accuracy: {score}\")"
   ]
  },
  {
   "cell_type": "code",
   "execution_count": 31,
   "id": "4c23b738",
   "metadata": {},
   "outputs": [
    {
     "name": "stdout",
     "output_type": "stream",
     "text": [
      "Model Accuracy: 99.77%\n"
     ]
    }
   ],
   "source": [
    "model = GaussianNB()\n",
    "model.fit(X_train_scaled, y_train)\n",
    "\n",
    "y_pred = model.predict(X_test_scaled)\n",
    "accuracy = accuracy_score(y_test, y_pred)\n",
    "print(f\"Model Accuracy: {accuracy * 100:.2f}%\")"
   ]
  },
  {
   "cell_type": "code",
   "execution_count": 32,
   "id": "ee5b660e",
   "metadata": {},
   "outputs": [
    {
     "data": {
      "text/plain": [
       "Index(['N', 'P', 'K', 'temperature', 'humidity', 'ph', 'rainfall',\n",
       "       'soilMoisture', 'soilTemprature', 'windSpeed', 'dailyLightIntegral',\n",
       "       'label'],\n",
       "      dtype='object')"
      ]
     },
     "execution_count": 32,
     "metadata": {},
     "output_type": "execute_result"
    }
   ],
   "source": [
    "crop.columns"
   ]
  },
  {
   "cell_type": "code",
   "execution_count": 33,
   "id": "c57dd35d",
   "metadata": {},
   "outputs": [],
   "source": [
    "reverse_crop_dict = {v: k for k, v in crop_dict.items()}\n",
    "\n",
    "def recommendations(N, P, K, temperature, humidity, ph, rainfall, soilMoisture, soilTemprature, windSpeed, DLI):\n",
    "  features = np.array([[N, P, K, temperature, humidity, ph, rainfall, soilMoisture, soilTemprature, windSpeed, DLI]])\n",
    "  scaled_features = scaler.transform(features)\n",
    "  prediction = model.predict(scaled_features)\n",
    "  crop_number = prediction[0]\n",
    "  crop_name = reverse_crop_dict[crop_number]\n",
    "  print(f\"Predicted Crop: {crop_name}\")\n",
    "  return crop_name\n"
   ]
  },
  {
   "cell_type": "code",
   "execution_count": 34,
   "id": "f7dce69a",
   "metadata": {},
   "outputs": [
    {
     "name": "stdout",
     "output_type": "stream",
     "text": [
      "Predicted Crop: jute\n",
      "jute\n"
     ]
    },
    {
     "name": "stderr",
     "output_type": "stream",
     "text": [
      "C:\\Users\\ayush\\AppData\\Roaming\\Python\\Python311\\site-packages\\sklearn\\utils\\validation.py:2749: UserWarning: X does not have valid feature names, but StandardScaler was fitted with feature names\n",
      "  warnings.warn(\n"
     ]
    }
   ],
   "source": [
    "N = 90\n",
    "P = 42\n",
    "K = 77\n",
    "temperature = 29.46\n",
    "humidity = 57.88\n",
    "ph = 6.91\n",
    "rainfall = 142.34\n",
    "soilMoisture = 62.15\n",
    "soilTemprature = 33.29\n",
    "windSpeed = 3.84\n",
    "dailyLightIntegral = 12.67\n",
    "\n",
    "predict = recommendations(N, P, K, temperature, humidity, ph, rainfall, soilMoisture, soilTemprature, windSpeed, dailyLightIntegral)\n",
    "\n",
    "print(predict)\n"
   ]
  },
  {
   "cell_type": "code",
   "execution_count": 35,
   "id": "1d3a0d20",
   "metadata": {},
   "outputs": [
    {
     "name": "stdout",
     "output_type": "stream",
     "text": [
      "Predicted Crop: jute\n",
      "jute\n"
     ]
    },
    {
     "name": "stderr",
     "output_type": "stream",
     "text": [
      "C:\\Users\\ayush\\AppData\\Roaming\\Python\\Python311\\site-packages\\sklearn\\utils\\validation.py:2749: UserWarning: X does not have valid feature names, but StandardScaler was fitted with feature names\n",
      "  warnings.warn(\n"
     ]
    }
   ],
   "source": [
    "import random\n",
    "\n",
    "N = random.randint(10, 100)\n",
    "P = random.randint(10, 100)\n",
    "K = random.randint(10, 100)\n",
    "temperature = round(random.uniform(15, 35), 2)\n",
    "humidity = round(random.uniform(30, 90), 2)\n",
    "ph = round(random.uniform(4.5, 8.5), 2)\n",
    "rainfall = round(random.uniform(50, 300), 2)\n",
    "soilMoisture = round(random.uniform(10, 90), 2)\n",
    "soilTemprature = round(random.uniform(20, 40), 2)\n",
    "windSpeed = round(random.uniform(0.5, 10), 2)\n",
    "dailyLightIntegral = round(random.uniform(5, 25), 2)\n",
    "\n",
    "predict = recommendations(N, P, K, temperature, humidity, ph, rainfall, soilMoisture, soilTemprature, windSpeed, dailyLightIntegral)\n",
    "\n",
    "print(predict)\n",
    "\n"
   ]
  },
  {
   "cell_type": "code",
   "execution_count": 36,
   "id": "0d58463e",
   "metadata": {},
   "outputs": [],
   "source": [
    "import pickle\n",
    "\n",
    "with open('model.pkl', 'wb') as model_file:\n",
    "    pickle.dump(model, model_file)\n",
    "\n",
    "with open('standardscalar.pkl', 'wb') as scaler_file:\n",
    "    pickle.dump(scaler, scaler_file)\n"
   ]
  },
  {
   "cell_type": "code",
   "execution_count": null,
   "id": "4345b296",
   "metadata": {},
   "outputs": [],
   "source": []
  }
 ],
 "metadata": {
  "kernelspec": {
   "display_name": "Python 3",
   "language": "python",
   "name": "python3"
  },
  "language_info": {
   "codemirror_mode": {
    "name": "ipython",
    "version": 3
   },
   "file_extension": ".py",
   "mimetype": "text/x-python",
   "name": "python",
   "nbconvert_exporter": "python",
   "pygments_lexer": "ipython3",
   "version": "3.11.5"
  }
 },
 "nbformat": 4,
 "nbformat_minor": 5
}
